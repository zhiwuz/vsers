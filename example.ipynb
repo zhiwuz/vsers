{
 "cells": [
  {
   "cell_type": "markdown",
   "metadata": {},
   "source": [
    "# Object tracking by frame"
   ]
  },
  {
   "cell_type": "code",
   "execution_count": null,
   "metadata": {
    "scrolled": true
   },
   "outputs": [],
   "source": [
    "import numpy as np\n",
    "import cv2\n",
    "import matplotlib.pyplot as plt\n",
    "from vsers.detect_track.objectDetect import ObjectDetector\n",
    "from vsers.detect_track.objectTrack import NearestTracker, ObjectDetectTracker\n",
    "import numpy as np\n",
    "\n",
    "detector = ObjectDetector()\n",
    "tracker = NearestTracker()\n",
    "detectTracker = OjectDetectTracker(detector, tracker)\n",
    "detectTracker.set_cropped_rect(np.array([400,100,400,200]))\n",
    "\n",
    "cap = cv2.VideoCapture('WIN_20200720_12_07_51_Pro.mp4')\n",
    "\n",
    "while(True):\n",
    "    ret, frame = cap.read()\n",
    "    if not ret:\n",
    "        break\n",
    "    frame = cv2.cvtColor(frame, cv2.COLOR_BGR2GRAY)\n",
    "    dic, coordinates, centroids, croppedInputColor, labels, image = detectTracker.detect(frame, plot = False)\n",
    "    cv2.imshow('frame', image)\n",
    "    if cv2.waitKey(1) & 0xFF == ord('q'):\n",
    "        break\n",
    "\n",
    "# When everything done, release the capture\n",
    "cap.release()\n",
    "cv2.destroyAllWindows()"
   ]
  },
  {
   "cell_type": "markdown",
   "metadata": {},
   "source": [
    "# Edge detection"
   ]
  },
  {
   "cell_type": "code",
   "execution_count": null,
   "metadata": {
    "scrolled": true
   },
   "outputs": [],
   "source": [
    "import numpy as np\n",
    "import cv2\n",
    "import matplotlib.pyplot as plt\n",
    "from vsers.edge_detection.edgeDetect import EdgeDetector\n",
    "import numpy as np\n",
    "\n",
    "detector = EdgeDetector()\n",
    "detector.set_cropped_rect(np.array([0, 502, 1920, 182]))\n",
    "\n",
    "cap = cv2.VideoCapture('MVI_3403.MOV')\n",
    "\n",
    "while(True):\n",
    "\n",
    "    ret, frame = cap.read()\n",
    "    if not ret:\n",
    "        break\n",
    "    coordinates, centroids, croppedInputColor, image, _, fitFunction= detector.detect(frame, plot=False, \n",
    "                                                                                      filtering = True, fitting=True)\n",
    "    cv2.imshow('frame', image)\n",
    "    if cv2.waitKey(1) & 0xFF == ord('q'):\n",
    "        break\n",
    "\n",
    "# When everything done, release the capture\n",
    "cap.release()\n",
    "cv2.destroyAllWindows()"
   ]
  },
  {
   "cell_type": "code",
   "execution_count": null,
   "metadata": {},
   "outputs": [],
   "source": [
    "import matplotlib\n",
    "matplotlib.rcParams.update({'font.size': 42})"
   ]
  },
  {
   "cell_type": "code",
   "execution_count": null,
   "metadata": {
    "pixiedust": {
     "displayParams": {}
    },
    "scrolled": true
   },
   "outputs": [],
   "source": [
    "import numpy as np\n",
    "import cv2\n",
    "import matplotlib.pyplot as plt\n",
    "from vsers.edge_detection.edgeDetect import EdgeDetector\n",
    "from vsers.utils.storage import Pickling\n",
    "\n",
    "detector = EdgeDetector(minimum=655.0, maximum=690.0, fs=10.0)\n",
    "detector.set_cropped_rect(np.array([0, 502, 1920, 182]))\n",
    "storage = Pickling(filename='MVI_3403')\n",
    "cap = cv2.VideoCapture('MVI_3403.MOV')\n",
    "\n",
    "while(True):\n",
    "\n",
    "    ret, frame = cap.read()\n",
    "    if not ret:\n",
    "        break\n",
    "    coordinates, centroids, croppedInputColor, image, _, fit= detector.detect(frame, plot=False, \n",
    "                                                                              filtering = True, fitting=True)\n",
    "    storage.store(coordinates=coordinates, centroids=centroids, image=image, fit=fit)\n",
    "\n",
    "# When everything done, release the capture\n",
    "storage.save()"
   ]
  },
  {
   "cell_type": "code",
   "execution_count": null,
   "metadata": {},
   "outputs": [],
   "source": [
    "import matplotlib\n",
    "matplotlib.rcParams.update({'font.size': 42})"
   ]
  },
  {
   "cell_type": "code",
   "execution_count": null,
   "metadata": {},
   "outputs": [],
   "source": [
    "plt.figure(figsize=(20,15))\n",
    "index = 350\n",
    "plt.imshow(storage.dic[index]['image'])\n",
    "coordinates = storage.dic[index]['coordinates']\n",
    "centroids = storage.dic[index]['centroids']\n",
    "fit_function = storage.dic[index]['fit'].fit_function\n",
    "first_derivative = storage.dic[index]['fit'].first_derivative\n",
    "second_derivative = storage.dic[index]['fit'].second_derivative\n",
    "third_derivative = storage.dic[index]['fit'].third_derivative\n",
    "fourth_derivative = storage.dic[index]['fit'].fourth_derivative\n",
    "plt.show()"
   ]
  },
  {
   "cell_type": "code",
   "execution_count": null,
   "metadata": {},
   "outputs": [],
   "source": [
    "plt.figure(figsize=(20,15))\n",
    "plt.plot(coordinates[:, 0], -coordinates[:, 1], \"s-\")\n",
    "plt.plot(coordinates[:, 0], -np.array([fit_function(x) for x in coordinates[:, 0]]), \"--\", linewidth=5)\n",
    "plt.xlabel(\"x (pixels)\")\n",
    "plt.ylabel(\"y (pixels)\")\n",
    "plt.show()"
   ]
  },
  {
   "cell_type": "code",
   "execution_count": null,
   "metadata": {},
   "outputs": [],
   "source": [
    "plt.figure(figsize=(20,15))\n",
    "plt.plot(coordinates[:, 0], -np.array([first_derivative(x) for x in coordinates[:, 0]]), \"r--\", linewidth=5, \n",
    "        label=\"first derivative\")\n",
    "plt.legend()\n",
    "plt.xlabel(\"x (pixels)\")\n",
    "plt.ylabel(\"y\")\n",
    "plt.grid()\n",
    "plt.show()"
   ]
  },
  {
   "cell_type": "code",
   "execution_count": null,
   "metadata": {},
   "outputs": [],
   "source": [
    "plt.figure(figsize=(20,15))\n",
    "\n",
    "plt.plot(coordinates[:, 0], -np.array([second_derivative(x) for x in coordinates[:, 0]]), \"--\", linewidth=5, \n",
    "        label=\"second derivative\")\n",
    "\n",
    "plt.legend()\n",
    "plt.xlabel(\"x (pixels)\")\n",
    "plt.ylabel(\"y\")\n",
    "plt.grid()\n",
    "plt.show()"
   ]
  },
  {
   "cell_type": "code",
   "execution_count": null,
   "metadata": {},
   "outputs": [],
   "source": [
    "plt.figure(figsize=(20,15))\n",
    "\n",
    "plt.plot(coordinates[:, 0], -np.array([third_derivative(x) for x in coordinates[:, 0]]), \"--\", linewidth=5, \n",
    "        label=\"third derivative\")\n",
    "\n",
    "plt.legend()\n",
    "plt.xlabel(\"x (pixels)\")\n",
    "plt.ylabel(\"y\")\n",
    "plt.grid()\n",
    "plt.show()"
   ]
  },
  {
   "cell_type": "code",
   "execution_count": null,
   "metadata": {},
   "outputs": [],
   "source": [
    "plt.figure(figsize=(20,15))\n",
    "\n",
    "plt.plot(coordinates[:, 0], -np.array([fourth_derivative(x) for x in coordinates[:, 0]]), \"--\", linewidth=5, \n",
    "        label=\"fourth derivative\")\n",
    "plt.legend()\n",
    "plt.xlabel(\"x (pixels)\")\n",
    "plt.ylabel(\"y\")\n",
    "plt.grid()\n",
    "\n",
    "plt.show()"
   ]
  },
  {
   "cell_type": "code",
   "execution_count": null,
   "metadata": {},
   "outputs": [],
   "source": []
  },
  {
   "cell_type": "code",
   "execution_count": null,
   "metadata": {},
   "outputs": [],
   "source": []
  },
  {
   "cell_type": "code",
   "execution_count": null,
   "metadata": {},
   "outputs": [],
   "source": []
  },
  {
   "cell_type": "code",
   "execution_count": null,
   "metadata": {},
   "outputs": [],
   "source": []
  }
 ],
 "metadata": {
  "kernelspec": {
   "display_name": "Python 3",
   "language": "python",
   "name": "python3"
  },
  "language_info": {
   "codemirror_mode": {
    "name": "ipython",
    "version": 3
   },
   "file_extension": ".py",
   "mimetype": "text/x-python",
   "name": "python",
   "nbconvert_exporter": "python",
   "pygments_lexer": "ipython3",
   "version": "3.6.9"
  }
 },
 "nbformat": 4,
 "nbformat_minor": 2
}
